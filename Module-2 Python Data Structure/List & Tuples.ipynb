{
 "cells": [
  {
   "cell_type": "code",
   "execution_count": null,
   "metadata": {},
   "outputs": [],
   "source": [
    "#Tuples are ordered sequence.\n",
    "#Tuples are written in coma seperated elements with paranthesis\n",
    "\n",
    "Ratings = (1,2,3,4,4,5)\n",
    "Ratings"
   ]
  },
  {
   "cell_type": "code",
   "execution_count": null,
   "metadata": {},
   "outputs": [],
   "source": [
    "tuple1 = (1,\"Pratik\",False,1.8)\n",
    "tuple1"
   ]
  },
  {
   "cell_type": "code",
   "execution_count": null,
   "metadata": {},
   "outputs": [],
   "source": [
    "type(tuple1)"
   ]
  },
  {
   "cell_type": "code",
   "execution_count": null,
   "metadata": {},
   "outputs": [],
   "source": [
    "tuple1[0]"
   ]
  },
  {
   "cell_type": "code",
   "execution_count": null,
   "metadata": {},
   "outputs": [],
   "source": [
    "tuple1[-2]"
   ]
  },
  {
   "cell_type": "code",
   "execution_count": null,
   "metadata": {},
   "outputs": [],
   "source": [
    "tuple2 = tuple1 + (\"Rahul\",99.999)\n",
    "tuple2"
   ]
  },
  {
   "cell_type": "code",
   "execution_count": 21,
   "metadata": {},
   "outputs": [
    {
     "name": "stdout",
     "output_type": "stream",
     "text": [
      "(1, 'Pratik', False, 1.8, 'Rahul', 99.999)\n"
     ]
    },
    {
     "data": {
      "text/plain": [
       "(1, 'Pratik', False)"
      ]
     },
     "execution_count": 21,
     "metadata": {},
     "output_type": "execute_result"
    }
   ],
   "source": [
    "print(tuple2)\n",
    "tuple2[:3]"
   ]
  },
  {
   "cell_type": "code",
   "execution_count": 22,
   "metadata": {},
   "outputs": [
    {
     "data": {
      "text/plain": [
       "6"
      ]
     },
     "execution_count": 22,
     "metadata": {},
     "output_type": "execute_result"
    }
   ],
   "source": [
    "len(tuple2)"
   ]
  },
  {
   "cell_type": "code",
   "execution_count": 23,
   "metadata": {},
   "outputs": [
    {
     "data": {
      "text/plain": [
       "(1.8, 'Rahul', 99.999)"
      ]
     },
     "execution_count": 23,
     "metadata": {},
     "output_type": "execute_result"
    }
   ],
   "source": [
    "tuple2[3:len(tuple2)]"
   ]
  },
  {
   "cell_type": "code",
   "execution_count": 25,
   "metadata": {},
   "outputs": [
    {
     "ename": "TypeError",
     "evalue": "'<' not supported between instances of 'str' and 'int'",
     "output_type": "error",
     "traceback": [
      "\u001b[1;31m---------------------------------------------------------------------------\u001b[0m",
      "\u001b[1;31mTypeError\u001b[0m                                 Traceback (most recent call last)",
      "\u001b[1;32m<ipython-input-25-fe979cf93d07>\u001b[0m in \u001b[0;36m<module>\u001b[1;34m\u001b[0m\n\u001b[1;32m----> 1\u001b[1;33m \u001b[0msortedTuple\u001b[0m \u001b[1;33m=\u001b[0m \u001b[0msorted\u001b[0m\u001b[1;33m(\u001b[0m\u001b[0mtuple2\u001b[0m\u001b[1;33m)\u001b[0m\u001b[1;33m\u001b[0m\u001b[1;33m\u001b[0m\u001b[0m\n\u001b[0m",
      "\u001b[1;31mTypeError\u001b[0m: '<' not supported between instances of 'str' and 'int'"
     ]
    }
   ],
   "source": [
    "sortedTuple = sorted(tuple2)"
   ]
  },
  {
   "cell_type": "code",
   "execution_count": 29,
   "metadata": {},
   "outputs": [
    {
     "data": {
      "text/plain": [
       "[-45, -18, 0, 15, 99]"
      ]
     },
     "execution_count": 29,
     "metadata": {},
     "output_type": "execute_result"
    }
   ],
   "source": [
    "tuple3 = (15,-18,-45,0,99)\n",
    "sortedTuple3 = sorted(tuple3)\n",
    "sortedTuple3"
   ]
  },
  {
   "cell_type": "code",
   "execution_count": 35,
   "metadata": {},
   "outputs": [
    {
     "data": {
      "text/plain": [
       "(15, -18, -45, 0, 99, 99.99, 15, 99.99, 15, 99.99, 15)"
      ]
     },
     "execution_count": 35,
     "metadata": {},
     "output_type": "execute_result"
    }
   ],
   "source": [
    "tuple3 = tuple3 + (99.99, 15)\n",
    "tuple3\n",
    "# we cannot add only int or float to tuple but we can append another tuple to existing tuple."
   ]
  },
  {
   "cell_type": "code",
   "execution_count": 37,
   "metadata": {},
   "outputs": [
    {
     "data": {
      "text/plain": [
       "[-45, -18, 0, 15, 15, 15, 15, 99, 99.99, 99.99, 99.99]"
      ]
     },
     "execution_count": 37,
     "metadata": {},
     "output_type": "execute_result"
    }
   ],
   "source": [
    "sortedTuple3 = sorted(tuple3)\n",
    "sortedTuple3"
   ]
  },
  {
   "cell_type": "code",
   "execution_count": 44,
   "metadata": {},
   "outputs": [
    {
     "name": "stdout",
     "output_type": "stream",
     "text": [
      "('ADS', 99.99)\n",
      "99.99\n"
     ]
    }
   ],
   "source": [
    "#tuple Nesting\n",
    "\n",
    "NT = (1,\"Pratik\",(\"ADS\",99.99),False, (True, (False, True)))\n",
    "print(NT[2])\n",
    "print(NT[2][1])"
   ]
  },
  {
   "cell_type": "code",
   "execution_count": 47,
   "metadata": {},
   "outputs": [
    {
     "name": "stdout",
     "output_type": "stream",
     "text": [
      "(True, (False, True))\n"
     ]
    }
   ],
   "source": [
    "print(NT[len(NT)-1])"
   ]
  },
  {
   "cell_type": "code",
   "execution_count": 50,
   "metadata": {},
   "outputs": [
    {
     "name": "stdout",
     "output_type": "stream",
     "text": [
      "(False, True)\n"
     ]
    }
   ],
   "source": [
    "print(NT[len(NT)-1][1])"
   ]
  },
  {
   "cell_type": "code",
   "execution_count": 51,
   "metadata": {},
   "outputs": [
    {
     "name": "stdout",
     "output_type": "stream",
     "text": [
      "True\n"
     ]
    }
   ],
   "source": [
    "print(NT[len(NT)-1][1][1])"
   ]
  },
  {
   "cell_type": "code",
   "execution_count": 54,
   "metadata": {},
   "outputs": [
    {
     "name": "stdout",
     "output_type": "stream",
     "text": [
      "['Pratik Sayanekar', 1, 99.99, ['Rahul', 'Sayanekar'], (1, 2, False)]\n"
     ]
    }
   ],
   "source": [
    "#List: ordered Sequence\n",
    "#List : Represented same as tuple but surrounded by [] paranthesis\n",
    "#Only difference is list are mutable while tuples are str are immutable.\n",
    "List1 = [\"Pratik Sayanekar\",1, 99.99,[\"Rahul\",\"Sayanekar\"],(1,2,False)]\n",
    "print(List1)"
   ]
  },
  {
   "cell_type": "code",
   "execution_count": 55,
   "metadata": {},
   "outputs": [],
   "source": [
    "#we can concat existing list with some other list"
   ]
  },
  {
   "cell_type": "code",
   "execution_count": 58,
   "metadata": {},
   "outputs": [
    {
     "name": "stdout",
     "output_type": "stream",
     "text": [
      "['Pratik Sayanekar', 1, 99.99, ['Rahul', 'Sayanekar'], (1, 2, False), True, 123, True, 123, True, 123]\n"
     ]
    }
   ],
   "source": [
    "List1.extend([True,123])\n",
    "print(List1)"
   ]
  },
  {
   "cell_type": "code",
   "execution_count": 60,
   "metadata": {},
   "outputs": [
    {
     "name": "stdout",
     "output_type": "stream",
     "text": [
      "['Pratik Sayanekar', 1, 99.99, ['Rahul', 'Sayanekar'], (1, 2, False), True, 123, True, 123, True, 123, ['Hallelujah', 'Tesla', False], ['Hallelujah', 'Tesla', False]]\n"
     ]
    }
   ],
   "source": [
    "List1.append([\"Hallelujah\",'Tesla',False]) \n",
    "print(List1)"
   ]
  },
  {
   "cell_type": "code",
   "execution_count": 61,
   "metadata": {},
   "outputs": [],
   "source": [
    "#Difference between append and extend\n",
    "#by using extend we extend the list, i.e. list size goint to increase by the size of extended list.\n",
    "# by using append, we append the list element with another list. that element type would be list."
   ]
  },
  {
   "cell_type": "code",
   "execution_count": 62,
   "metadata": {},
   "outputs": [],
   "source": [
    "#every time we apply any method to list ,then the list itself changes, that is mutable behaviour of the list."
   ]
  },
  {
   "cell_type": "code",
   "execution_count": 65,
   "metadata": {},
   "outputs": [
    {
     "name": "stdout",
     "output_type": "stream",
     "text": [
      "['Pratik Sayanekar', 1, 99.99, ['Rahul', 'Sayanekar'], (1, 2, False), True, 123, True, 123, True, 123, 'HardRock']\n"
     ]
    }
   ],
   "source": [
    "List1[len(List1)-1] = \"HardRock\"\n",
    "print(List1)"
   ]
  },
  {
   "cell_type": "code",
   "execution_count": 67,
   "metadata": {},
   "outputs": [
    {
     "name": "stdout",
     "output_type": "stream",
     "text": [
      "['Pratik Sayanekar', 1, 99.99, ['Rahul', 'Sayanekar'], (1, 2, False), True, 123, True, 123, 'HardRock']\n"
     ]
    }
   ],
   "source": [
    "del(List1[len(List1)-2])\n",
    "print(List1)"
   ]
  },
  {
   "cell_type": "code",
   "execution_count": 69,
   "metadata": {},
   "outputs": [
    {
     "data": {
      "text/plain": [
       "['Hard', 'Rock']"
      ]
     },
     "execution_count": 69,
     "metadata": {},
     "output_type": "execute_result"
    }
   ],
   "source": [
    "\"Hard Rock\".split()"
   ]
  },
  {
   "cell_type": "code",
   "execution_count": 70,
   "metadata": {},
   "outputs": [
    {
     "data": {
      "text/plain": [
       "list"
      ]
     },
     "execution_count": 70,
     "metadata": {},
     "output_type": "execute_result"
    }
   ],
   "source": [
    "type(\"Hard Rock\".split())   #it sepeartes every element by space"
   ]
  },
  {
   "cell_type": "code",
   "execution_count": 71,
   "metadata": {},
   "outputs": [
    {
     "data": {
      "text/plain": [
       "['A', 'B', 'c', 'D']"
      ]
     },
     "execution_count": 71,
     "metadata": {},
     "output_type": "execute_result"
    }
   ],
   "source": [
    "\"A,B,c,D\".split(\",\")"
   ]
  },
  {
   "cell_type": "code",
   "execution_count": 73,
   "metadata": {},
   "outputs": [
    {
     "name": "stdout",
     "output_type": "stream",
     "text": [
      "['Pratik Sayanekar', 1, 99.99, ['Rahul', 'Sayanekar'], (1, 2, False), True, 123, True, 123, 'HardRock']\n"
     ]
    }
   ],
   "source": [
    "clonedList = List1[:]\n",
    "print(clonedList) # cloned list are comlpetely different list, by changing original list element wont affect clonedList."
   ]
  },
  {
   "cell_type": "code",
   "execution_count": 76,
   "metadata": {},
   "outputs": [
    {
     "name": "stdout",
     "output_type": "stream",
     "text": [
      "['Hard Rock', 12]\n",
      "[['Hard Rock', 12], False]\n"
     ]
    }
   ],
   "source": [
    "A = [\"Hard Rock\",12]\n",
    "B = [A,False]\n",
    "print(A)\n",
    "print(B)"
   ]
  },
  {
   "cell_type": "code",
   "execution_count": 78,
   "metadata": {},
   "outputs": [
    {
     "name": "stdout",
     "output_type": "stream",
     "text": [
      "['Hard Rock', 'Banana']\n",
      "[['Hard Rock', 'Banana'], False]\n"
     ]
    }
   ],
   "source": [
    "A[1] = \"Banana\"\n",
    "print(A)\n",
    "print(B)"
   ]
  },
  {
   "cell_type": "code",
   "execution_count": 79,
   "metadata": {},
   "outputs": [
    {
     "name": "stdout",
     "output_type": "stream",
     "text": [
      "['Pratik Sayanekar', 1, 99.99, ['Rahul', 'Sayanekar'], (1, 2, False), True, 123, True, 123, 'HardRock']\n",
      "['Pratik Sayanekar', 1, 99.99, ['Rahul', 'Sayanekar'], (1, 2, False), True, 123, True, 123, 'HardRock']\n"
     ]
    }
   ],
   "source": [
    "print(List1)\n",
    "print(clonedList)"
   ]
  },
  {
   "cell_type": "code",
   "execution_count": 80,
   "metadata": {},
   "outputs": [],
   "source": [
    "List1[0]=\"Michael Jackson\""
   ]
  },
  {
   "cell_type": "code",
   "execution_count": 81,
   "metadata": {},
   "outputs": [
    {
     "name": "stdout",
     "output_type": "stream",
     "text": [
      "['Michael Jackson', 1, 99.99, ['Rahul', 'Sayanekar'], (1, 2, False), True, 123, True, 123, 'HardRock']\n",
      "['Pratik Sayanekar', 1, 99.99, ['Rahul', 'Sayanekar'], (1, 2, False), True, 123, True, 123, 'HardRock']\n"
     ]
    }
   ],
   "source": [
    "print(List1)\n",
    "print(clonedList)"
   ]
  }
 ],
 "metadata": {
  "kernelspec": {
   "display_name": "Python 3",
   "language": "python",
   "name": "python3"
  },
  "language_info": {
   "codemirror_mode": {
    "name": "ipython",
    "version": 3
   },
   "file_extension": ".py",
   "mimetype": "text/x-python",
   "name": "python",
   "nbconvert_exporter": "python",
   "pygments_lexer": "ipython3",
   "version": "3.7.3"
  }
 },
 "nbformat": 4,
 "nbformat_minor": 2
}
