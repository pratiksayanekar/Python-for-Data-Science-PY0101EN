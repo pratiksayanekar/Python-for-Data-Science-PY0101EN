{
 "cells": [
  {
   "cell_type": "code",
   "execution_count": 2,
   "metadata": {},
   "outputs": [
    {
     "name": "stdout",
     "output_type": "stream",
     "text": [
      "   businessUnit\\tday_capping\\tweek_capping\n",
      "0                       ZENAU\\t8.00\\t40.00\n",
      "1                       ZENCH\\t8.00\\t40.00\n",
      "2                       ZENIN\\t8.00\\t40.00\n",
      "3                       ZENJP\\t8.00\\t40.00\n",
      "4                       ZENME\\t8.00\\t40.00\n",
      "5                       ZENSA\\t8.00\\t40.00\n",
      "6                       ZENSG\\t8.00\\t40.00\n",
      "7                       ZENUK\\t8.00\\t40.00\n",
      "8                       ZENUS\\t8.00\\t40.00\n",
      "9                       ZIMNL\\t8.00\\t40.00\n",
      "10                      ZIMUK\\t8.00\\t40.00\n",
      "11                      ZIMUS\\t8.00\\t40.00\n"
     ]
    }
   ],
   "source": [
    "import pandas as pd\n",
    "filePath = 'C:\\\\Users\\\\ps51533.IND\\\\Desktop\\\\xyz.csv'\n",
    "csv = pd.read_csv(filePath)\n",
    "print(csv)"
   ]
  },
  {
   "cell_type": "code",
   "execution_count": 5,
   "metadata": {},
   "outputs": [
    {
     "data": {
      "text/html": [
       "<div>\n",
       "<style scoped>\n",
       "    .dataframe tbody tr th:only-of-type {\n",
       "        vertical-align: middle;\n",
       "    }\n",
       "\n",
       "    .dataframe tbody tr th {\n",
       "        vertical-align: top;\n",
       "    }\n",
       "\n",
       "    .dataframe thead th {\n",
       "        text-align: right;\n",
       "    }\n",
       "</style>\n",
       "<table border=\"1\" class=\"dataframe\">\n",
       "  <thead>\n",
       "    <tr style=\"text-align: right;\">\n",
       "      <th></th>\n",
       "      <th>businessUnit\tday_capping\tweek_capping</th>\n",
       "    </tr>\n",
       "  </thead>\n",
       "  <tbody>\n",
       "    <tr>\n",
       "      <th>0</th>\n",
       "      <td>ZENAU\\t8.00\\t40.00</td>\n",
       "    </tr>\n",
       "    <tr>\n",
       "      <th>1</th>\n",
       "      <td>ZENCH\\t8.00\\t40.00</td>\n",
       "    </tr>\n",
       "    <tr>\n",
       "      <th>2</th>\n",
       "      <td>ZENIN\\t8.00\\t40.00</td>\n",
       "    </tr>\n",
       "    <tr>\n",
       "      <th>3</th>\n",
       "      <td>ZENJP\\t8.00\\t40.00</td>\n",
       "    </tr>\n",
       "    <tr>\n",
       "      <th>4</th>\n",
       "      <td>ZENME\\t8.00\\t40.00</td>\n",
       "    </tr>\n",
       "  </tbody>\n",
       "</table>\n",
       "</div>"
      ],
      "text/plain": [
       "  businessUnit\\tday_capping\\tweek_capping\n",
       "0                      ZENAU\\t8.00\\t40.00\n",
       "1                      ZENCH\\t8.00\\t40.00\n",
       "2                      ZENIN\\t8.00\\t40.00\n",
       "3                      ZENJP\\t8.00\\t40.00\n",
       "4                      ZENME\\t8.00\\t40.00"
      ]
     },
     "execution_count": 5,
     "metadata": {},
     "output_type": "execute_result"
    }
   ],
   "source": [
    "csv.head() #First 5 roles"
   ]
  },
  {
   "cell_type": "code",
   "execution_count": 6,
   "metadata": {},
   "outputs": [
    {
     "data": {
      "text/html": [
       "<div>\n",
       "<style scoped>\n",
       "    .dataframe tbody tr th:only-of-type {\n",
       "        vertical-align: middle;\n",
       "    }\n",
       "\n",
       "    .dataframe tbody tr th {\n",
       "        vertical-align: top;\n",
       "    }\n",
       "\n",
       "    .dataframe thead th {\n",
       "        text-align: right;\n",
       "    }\n",
       "</style>\n",
       "<table border=\"1\" class=\"dataframe\">\n",
       "  <thead>\n",
       "    <tr style=\"text-align: right;\">\n",
       "      <th></th>\n",
       "      <th>businessUnit\tday_capping\tweek_capping</th>\n",
       "    </tr>\n",
       "  </thead>\n",
       "  <tbody>\n",
       "    <tr>\n",
       "      <th>0</th>\n",
       "      <td>ZENAU\\t8.00\\t40.00</td>\n",
       "    </tr>\n",
       "    <tr>\n",
       "      <th>1</th>\n",
       "      <td>ZENCH\\t8.00\\t40.00</td>\n",
       "    </tr>\n",
       "    <tr>\n",
       "      <th>2</th>\n",
       "      <td>ZENIN\\t8.00\\t40.00</td>\n",
       "    </tr>\n",
       "    <tr>\n",
       "      <th>3</th>\n",
       "      <td>ZENJP\\t8.00\\t40.00</td>\n",
       "    </tr>\n",
       "    <tr>\n",
       "      <th>4</th>\n",
       "      <td>ZENME\\t8.00\\t40.00</td>\n",
       "    </tr>\n",
       "    <tr>\n",
       "      <th>5</th>\n",
       "      <td>ZENSA\\t8.00\\t40.00</td>\n",
       "    </tr>\n",
       "    <tr>\n",
       "      <th>6</th>\n",
       "      <td>ZENSG\\t8.00\\t40.00</td>\n",
       "    </tr>\n",
       "    <tr>\n",
       "      <th>7</th>\n",
       "      <td>ZENUK\\t8.00\\t40.00</td>\n",
       "    </tr>\n",
       "    <tr>\n",
       "      <th>8</th>\n",
       "      <td>ZENUS\\t8.00\\t40.00</td>\n",
       "    </tr>\n",
       "    <tr>\n",
       "      <th>9</th>\n",
       "      <td>ZIMNL\\t8.00\\t40.00</td>\n",
       "    </tr>\n",
       "  </tbody>\n",
       "</table>\n",
       "</div>"
      ],
      "text/plain": [
       "  businessUnit\\tday_capping\\tweek_capping\n",
       "0                      ZENAU\\t8.00\\t40.00\n",
       "1                      ZENCH\\t8.00\\t40.00\n",
       "2                      ZENIN\\t8.00\\t40.00\n",
       "3                      ZENJP\\t8.00\\t40.00\n",
       "4                      ZENME\\t8.00\\t40.00\n",
       "5                      ZENSA\\t8.00\\t40.00\n",
       "6                      ZENSG\\t8.00\\t40.00\n",
       "7                      ZENUK\\t8.00\\t40.00\n",
       "8                      ZENUS\\t8.00\\t40.00\n",
       "9                      ZIMNL\\t8.00\\t40.00"
      ]
     },
     "execution_count": 6,
     "metadata": {},
     "output_type": "execute_result"
    }
   ],
   "source": [
    "csv.head(10)"
   ]
  },
  {
   "cell_type": "code",
   "execution_count": 9,
   "metadata": {},
   "outputs": [
    {
     "name": "stdout",
     "output_type": "stream",
     "text": [
      "   businessUnit\\tday_capping\\tweek_capping\n",
      "0                       ZENAU\\t8.00\\t40.00\n",
      "1                       ZENCH\\t8.00\\t40.00\n",
      "2                       ZENIN\\t8.00\\t40.00\n",
      "3                       ZENJP\\t8.00\\t40.00\n",
      "4                       ZENME\\t8.00\\t40.00\n",
      "5                       ZENSA\\t8.00\\t40.00\n",
      "6                       ZENSG\\t8.00\\t40.00\n",
      "7                       ZENUK\\t8.00\\t40.00\n",
      "8                       ZENUS\\t8.00\\t40.00\n",
      "9                       ZIMNL\\t8.00\\t40.00\n",
      "10                      ZIMUK\\t8.00\\t40.00\n",
      "11                      ZIMUS\\t8.00\\t40.00\n"
     ]
    }
   ],
   "source": [
    "csv_Frame = pd.DataFrame(csv)\n",
    "print(csv_Frame)"
   ]
  },
  {
   "cell_type": "code",
   "execution_count": 15,
   "metadata": {},
   "outputs": [],
   "source": [
    "songs = {'Album':['Thriller','Back in Black','The Dark Side of Moon','Bat out of Hell'],\n",
    "     'Released':[2019,2012,2030,2059],\n",
    "     'Length':['00:35:19','00:35:00','00:55:19','00:45:19']}\n",
    "songDF = pd.DataFrame(songs)"
   ]
  },
  {
   "cell_type": "code",
   "execution_count": 16,
   "metadata": {},
   "outputs": [
    {
     "name": "stdout",
     "output_type": "stream",
     "text": [
      "                   Album  Released    Length\n",
      "0               Thriller      2019  00:35:19\n",
      "1          Back in Black      2012  00:35:00\n",
      "2  The Dark Side of Moon      2030  00:55:19\n",
      "3        Bat out of Hell      2059  00:45:19\n"
     ]
    }
   ],
   "source": [
    "print(songDF)"
   ]
  },
  {
   "cell_type": "code",
   "execution_count": 17,
   "metadata": {},
   "outputs": [
    {
     "name": "stdout",
     "output_type": "stream",
     "text": [
      "     Length\n",
      "0  00:35:19\n",
      "1  00:35:00\n",
      "2  00:55:19\n",
      "3  00:45:19\n"
     ]
    }
   ],
   "source": [
    "lenDF = songDF[['Length']]\n",
    "print(lenDF)"
   ]
  },
  {
   "cell_type": "code",
   "execution_count": 18,
   "metadata": {},
   "outputs": [
    {
     "name": "stdout",
     "output_type": "stream",
     "text": [
      "                   Album  Released\n",
      "0               Thriller      2019\n",
      "1          Back in Black      2012\n",
      "2  The Dark Side of Moon      2030\n",
      "3        Bat out of Hell      2059\n"
     ]
    }
   ],
   "source": [
    "albumReleaseDF = songDF[['Album','Released']]\n",
    "print(albumReleaseDF)"
   ]
  },
  {
   "cell_type": "code",
   "execution_count": 21,
   "metadata": {},
   "outputs": [
    {
     "ename": "NameError",
     "evalue": "name 'printsongDF' is not defined",
     "output_type": "error",
     "traceback": [
      "\u001b[1;31m---------------------------------------------------------------------------\u001b[0m",
      "\u001b[1;31mNameError\u001b[0m                                 Traceback (most recent call last)",
      "\u001b[1;32m<ipython-input-21-28a60503bcc8>\u001b[0m in \u001b[0;36m<module>\u001b[1;34m\u001b[0m\n\u001b[1;32m----> 1\u001b[1;33m \u001b[0mprintsongDF\u001b[0m\u001b[1;33m.\u001b[0m\u001b[0mix\u001b[0m\u001b[1;33m[\u001b[0m\u001b[1;36m0\u001b[0m\u001b[1;33m,\u001b[0m\u001b[1;36m0\u001b[0m\u001b[1;33m]\u001b[0m\u001b[1;33m\u001b[0m\u001b[1;33m\u001b[0m\u001b[0m\n\u001b[0m",
      "\u001b[1;31mNameError\u001b[0m: name 'printsongDF' is not defined"
     ]
    }
   ],
   "source": [
    "printsongDF.ix[0,0]"
   ]
  },
  {
   "cell_type": "code",
   "execution_count": 28,
   "metadata": {},
   "outputs": [
    {
     "data": {
      "text/html": [
       "<div>\n",
       "<style scoped>\n",
       "    .dataframe tbody tr th:only-of-type {\n",
       "        vertical-align: middle;\n",
       "    }\n",
       "\n",
       "    .dataframe tbody tr th {\n",
       "        vertical-align: top;\n",
       "    }\n",
       "\n",
       "    .dataframe thead th {\n",
       "        text-align: right;\n",
       "    }\n",
       "</style>\n",
       "<table border=\"1\" class=\"dataframe\">\n",
       "  <thead>\n",
       "    <tr style=\"text-align: right;\">\n",
       "      <th></th>\n",
       "      <th>a</th>\n",
       "      <th>b</th>\n",
       "    </tr>\n",
       "  </thead>\n",
       "  <tbody>\n",
       "    <tr>\n",
       "      <th>0</th>\n",
       "      <td>11</td>\n",
       "      <td>21</td>\n",
       "    </tr>\n",
       "    <tr>\n",
       "      <th>1</th>\n",
       "      <td>21</td>\n",
       "      <td>22</td>\n",
       "    </tr>\n",
       "    <tr>\n",
       "      <th>2</th>\n",
       "      <td>31</td>\n",
       "      <td>23</td>\n",
       "    </tr>\n",
       "  </tbody>\n",
       "</table>\n",
       "</div>"
      ],
      "text/plain": [
       "    a   b\n",
       "0  11  21\n",
       "1  21  22\n",
       "2  31  23"
      ]
     },
     "execution_count": 28,
     "metadata": {},
     "output_type": "execute_result"
    }
   ],
   "source": [
    "import pandas as banana\n",
    "\n",
    "df=banana.DataFrame({'a':[11,21,31],'b':[21,22,23]})\n",
    "\n",
    "df.head()"
   ]
  },
  {
   "cell_type": "markdown",
   "metadata": {},
   "source": []
  },
  {
   "cell_type": "code",
   "execution_count": 35,
   "metadata": {},
   "outputs": [
    {
     "name": "stdout",
     "output_type": "stream",
     "text": [
      "      a\n",
      "0    21\n",
      "1    32\n",
      "2    21\n",
      "3   212\n",
      "4   342\n",
      "5    21\n",
      "6     2\n",
      "7   121\n",
      "8    21\n",
      "9    12\n",
      "10   21\n",
      "11   12\n"
     ]
    }
   ],
   "source": [
    "a = {'a':[21,32,21,212,342,21,2,121,21,12,21,12]}\n",
    "adf = banana.DataFrame(a)\n",
    "print(adf)"
   ]
  },
  {
   "cell_type": "code",
   "execution_count": 39,
   "metadata": {},
   "outputs": [
    {
     "data": {
      "text/plain": [
       "array([ 21,  32, 212, 342,   2, 121,  12], dtype=int64)"
      ]
     },
     "execution_count": 39,
     "metadata": {},
     "output_type": "execute_result"
    }
   ],
   "source": [
    "adf['a'].unique()"
   ]
  },
  {
   "cell_type": "code",
   "execution_count": 51,
   "metadata": {},
   "outputs": [
    {
     "name": "stdout",
     "output_type": "stream",
     "text": [
      "   a          b\n",
      "3  4  sdfsdfdsf\n",
      "4  5     asdasd\n",
      "None\n"
     ]
    }
   ],
   "source": [
    "import pandas as pd \n",
    "df = pd.DataFrame({'a':[1,2,3,4,5,3,2,1],'b':['asdasd','sdasd','dsfsdf','sdfsdfdsf','asdasd','sdfdsdf','adsasd','asdasdsa']})\n",
    "df3 = df[df['a']>3]\n",
    "print(df3)\n",
    "print(df3.to_csv('new.csv'))"
   ]
  },
  {
   "cell_type": "code",
   "execution_count": 56,
   "metadata": {},
   "outputs": [
    {
     "data": {
      "text/plain": [
       "0     True\n",
       "1    False\n",
       "2     True\n",
       "Name: a, dtype: bool"
      ]
     },
     "execution_count": 56,
     "metadata": {},
     "output_type": "execute_result"
    }
   ],
   "source": [
    "df=pd.DataFrame({'a':[1,2,1],'b':[1,1,1]})\n",
    "df['a']==1"
   ]
  },
  {
   "cell_type": "code",
   "execution_count": null,
   "metadata": {},
   "outputs": [],
   "source": []
  }
 ],
 "metadata": {
  "kernelspec": {
   "display_name": "Python 3",
   "language": "python",
   "name": "python3"
  },
  "language_info": {
   "codemirror_mode": {
    "name": "ipython",
    "version": 3
   },
   "file_extension": ".py",
   "mimetype": "text/x-python",
   "name": "python",
   "nbconvert_exporter": "python",
   "pygments_lexer": "ipython3",
   "version": "3.7.3"
  }
 },
 "nbformat": 4,
 "nbformat_minor": 2
}
