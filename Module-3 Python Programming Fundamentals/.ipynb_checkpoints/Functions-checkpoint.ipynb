{
 "cells": [
  {
   "cell_type": "code",
   "execution_count": 1,
   "metadata": {},
   "outputs": [
    {
     "data": {
      "text/plain": [
       "6"
      ]
     },
     "execution_count": 1,
     "metadata": {},
     "output_type": "execute_result"
    }
   ],
   "source": [
    "a=\"Pratik\"\n",
    "len(a)"
   ]
  },
  {
   "cell_type": "code",
   "execution_count": 2,
   "metadata": {},
   "outputs": [
    {
     "data": {
      "text/plain": [
       "3"
      ]
     },
     "execution_count": 2,
     "metadata": {},
     "output_type": "execute_result"
    }
   ],
   "source": [
    "a=['sad','safds','sdfsdsd']\n",
    "len(a)"
   ]
  },
  {
   "cell_type": "code",
   "execution_count": 6,
   "metadata": {},
   "outputs": [
    {
     "data": {
      "text/plain": [
       "3743.924"
      ]
     },
     "execution_count": 6,
     "metadata": {},
     "output_type": "execute_result"
    }
   ],
   "source": [
    "album_ratings = [10,234,23.4,32.2,3423.324,-324,345]\n",
    "sum(album_ratings)"
   ]
  },
  {
   "cell_type": "code",
   "execution_count": 7,
   "metadata": {},
   "outputs": [
    {
     "data": {
      "text/plain": [
       "[-324, 10, 23.4, 32.2, 234, 345, 3423.324]"
      ]
     },
     "execution_count": 7,
     "metadata": {},
     "output_type": "execute_result"
    }
   ],
   "source": [
    "sorted(album_ratings)"
   ]
  },
  {
   "cell_type": "code",
   "execution_count": 8,
   "metadata": {},
   "outputs": [
    {
     "name": "stdout",
     "output_type": "stream",
     "text": [
      "[10, 234, 23.4, 32.2, 3423.324, -324, 345]\n"
     ]
    }
   ],
   "source": [
    "print(album_ratings)"
   ]
  },
  {
   "cell_type": "code",
   "execution_count": 10,
   "metadata": {},
   "outputs": [
    {
     "data": {
      "text/plain": [
       "[-324, 10, 23.4, 32.2, 234, 345, 3423.324]"
      ]
     },
     "execution_count": 10,
     "metadata": {},
     "output_type": "execute_result"
    }
   ],
   "source": [
    "album_ratings.sort()\n",
    "album_ratings"
   ]
  },
  {
   "cell_type": "code",
   "execution_count": 11,
   "metadata": {},
   "outputs": [
    {
     "data": {
      "text/plain": [
       "11"
      ]
     },
     "execution_count": 11,
     "metadata": {},
     "output_type": "execute_result"
    }
   ],
   "source": [
    "def add1(a):\n",
    "    b= a+1\n",
    "    return b\n",
    "add1(10)"
   ]
  },
  {
   "cell_type": "code",
   "execution_count": 13,
   "metadata": {},
   "outputs": [
    {
     "name": "stdout",
     "output_type": "stream",
     "text": [
      "15\n"
     ]
    }
   ],
   "source": [
    "c = add1(14)\n",
    "print(c)"
   ]
  },
  {
   "cell_type": "code",
   "execution_count": 14,
   "metadata": {},
   "outputs": [
    {
     "name": "stdout",
     "output_type": "stream",
     "text": [
      "None\n"
     ]
    }
   ],
   "source": [
    "def noWork():\n",
    "    pass\n",
    "print(noWork())"
   ]
  },
  {
   "cell_type": "code",
   "execution_count": 15,
   "metadata": {},
   "outputs": [
    {
     "name": "stdout",
     "output_type": "stream",
     "text": [
      "a\n",
      "sdsd\n",
      "dsfsdf\n",
      "dsfdfg\n"
     ]
    }
   ],
   "source": [
    "def artistNames(names):\n",
    "    for name in names:\n",
    "        print(name)\n",
    "A = [\"a\",\"sdsd\",'dsfsdf','dsfdfg']\n",
    "artistNames(A)"
   ]
  },
  {
   "cell_type": "code",
   "execution_count": 19,
   "metadata": {},
   "outputs": [
    {
     "name": "stdout",
     "output_type": "stream",
     "text": [
      "['a', 'sdsd', 'dsfsdf', 'dsfdfg']\n",
      "a\n",
      "sdsd\n",
      "dsfsdf\n",
      "dsfdfg\n"
     ]
    }
   ],
   "source": [
    "def artistNames(names):\n",
    "    print(names)\n",
    "    for name in names:\n",
    "        print(name)\n",
    "artistNames([\"a\",\"sdsd\",'dsfsdf','dsfdfg'])"
   ]
  },
  {
   "cell_type": "code",
   "execution_count": 20,
   "metadata": {},
   "outputs": [
    {
     "name": "stdout",
     "output_type": "stream",
     "text": [
      "('a', 'sdsd', 'dsfsdf', 'dsfdfg')\n",
      "a\n",
      "sdsd\n",
      "dsfsdf\n",
      "dsfdfg\n"
     ]
    }
   ],
   "source": [
    "def artistNames(*names):\n",
    "    print(names)\n",
    "    for name in names:\n",
    "        print(name)\n",
    "artistNames(\"a\",\"sdsd\",'dsfsdf','dsfdfg')"
   ]
  },
  {
   "cell_type": "code",
   "execution_count": 21,
   "metadata": {},
   "outputs": [
    {
     "name": "stdout",
     "output_type": "stream",
     "text": [
      "1982\n",
      "2017\n"
     ]
    }
   ],
   "source": [
    "def thriller():\n",
    "    Date = \"1982\"\n",
    "    return Date\n",
    "\n",
    "Date = \"2017\"\n",
    "\n",
    "print(thriller())\n",
    "\n",
    "print(Date)"
   ]
  },
  {
   "cell_type": "code",
   "execution_count": 24,
   "metadata": {},
   "outputs": [
    {
     "name": "stdout",
     "output_type": "stream",
     "text": [
      "12dsfsdf\n",
      "12dsfsdf-sdsadasd\n",
      "12dsfsdf\n"
     ]
    }
   ],
   "source": [
    "def ABCD(y):\n",
    "    print(ratings)\n",
    "    ratings = ratings+y \n",
    "    return ratings\n",
    "\n",
    "ratings = \"12dsfsdf\"\n",
    "\n",
    "print(ABCD(\"-sdsadasd\"))\n",
    "\n",
    "print(ratings)"
   ]
  }
 ],
 "metadata": {
  "kernelspec": {
   "display_name": "Python 3",
   "language": "python",
   "name": "python3"
  },
  "language_info": {
   "codemirror_mode": {
    "name": "ipython",
    "version": 3
   },
   "file_extension": ".py",
   "mimetype": "text/x-python",
   "name": "python",
   "nbconvert_exporter": "python",
   "pygments_lexer": "ipython3",
   "version": "3.7.3"
  }
 },
 "nbformat": 4,
 "nbformat_minor": 2
}
